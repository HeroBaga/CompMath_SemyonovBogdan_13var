{
 "cells": [
  {
   "cell_type": "code",
   "execution_count": 1,
   "metadata": {
    "ExecuteTime": {
     "end_time": "2020-05-12T18:33:10.521854Z",
     "start_time": "2020-05-12T18:33:09.178077Z"
    }
   },
   "outputs": [],
   "source": [
    "import matplotlib.pyplot as plt\n",
    "import math\n",
    "import numpy as np\n",
    "import sympy as sp"
   ]
  },
  {
   "cell_type": "code",
   "execution_count": 56,
   "metadata": {
    "ExecuteTime": {
     "end_time": "2020-05-12T19:54:34.344087Z",
     "start_time": "2020-05-12T19:54:34.307275Z"
    }
   },
   "outputs": [],
   "source": [
    "X = [0,0.1,0.2,0.3]\n",
    "Y = [0.22, 1.57, 12.6, 14.1]\n",
    "a, b, c, =  0.04, 0.16, 0.27\n",
    "\n",
    "x_sym = sp.Symbol('x')\n",
    "f_sym = x_sym/(5**x_sym)\n",
    "df_sym = f_sym.diff()\n",
    "df_sym2 = sp.diff(f_sym, x_sym, 2)\n",
    "df_sym3 = sp.diff(f_sym, x_sym, 3)"
   ]
  },
  {
   "cell_type": "code",
   "execution_count": 9,
   "metadata": {
    "ExecuteTime": {
     "end_time": "2020-05-12T19:02:44.866619Z",
     "start_time": "2020-05-12T19:02:44.860141Z"
    }
   },
   "outputs": [
    {
     "data": {
      "text/plain": [
       "[112.5, 0.07428, 0.07518, 125.0]"
      ]
     },
     "execution_count": 9,
     "metadata": {},
     "output_type": "execute_result"
    }
   ],
   "source": [
    "n = 10\n",
    "h = (b-a)/n\n",
    "Y1 = []\n",
    "Y1.append((Y[1]-Y[0])/h)\n",
    "for i in range(1, len(Y)-1):\n",
    "    Y1.append((Y[i+1]-Y[i-1])/2*h)\n",
    "Y1.append((Y[-1]-Y[-2])/h)\n",
    "Y1"
   ]
  },
  {
   "cell_type": "code",
   "execution_count": 10,
   "metadata": {
    "ExecuteTime": {
     "end_time": "2020-05-12T19:02:50.998669Z",
     "start_time": "2020-05-12T19:02:50.793996Z"
    }
   },
   "outputs": [
    {
     "data": {
      "text/plain": [
       "[<matplotlib.lines.Line2D at 0x7fba05368710>]"
      ]
     },
     "execution_count": 10,
     "metadata": {},
     "output_type": "execute_result"
    },
    {
     "data": {
      "image/png": "[encoded data removed]",
      "text/plain": [
       "<Figure size 432x288 with 1 Axes>"
      ]
     },
     "metadata": {},
     "output_type": "display_data"
    }
   ],
   "source": [
    "from scipy.interpolate import CubicSpline\n",
    "cb = CubicSpline(X, Y1)\n",
    "plt.plot([x for x in np.arange(0, 10, 0.01)], [cb(x) for x in np.arange(0, 10, 0.01)])"
   ]
  },
  {
   "cell_type": "code",
   "execution_count": 11,
   "metadata": {
    "ExecuteTime": {
     "end_time": "2020-05-12T19:03:05.031856Z",
     "start_time": "2020-05-12T19:03:05.021900Z"
    }
   },
   "outputs": [
    {
     "data": {
      "text/plain": [
       "(array(54.8383448), array(-14.2162016), array(73.66195305))"
      ]
     },
     "execution_count": 11,
     "metadata": {},
     "output_type": "execute_result"
    }
   ],
   "source": [
    "cb(a), cb(b), cb(c)"
   ]
  },
  {
   "cell_type": "code",
   "execution_count": 12,
   "metadata": {
    "ExecuteTime": {
     "end_time": "2020-05-12T19:03:13.763701Z",
     "start_time": "2020-05-12T19:03:13.759968Z"
    }
   },
   "outputs": [],
   "source": [
    "Y2 = []\n",
    "Y2.append((Y[1] - Y[0])/h)\n",
    "for i in range(1, len(Y)-1):\n",
    "    Y2.append((Y[i-1] - 2*Y[i] + Y[i+1])/h*h)\n",
    "Y2.append((Y1[-1]-Y1[-2])/h)\n",
    "\n"
   ]
  },
  {
   "cell_type": "code",
   "execution_count": 13,
   "metadata": {
    "ExecuteTime": {
     "end_time": "2020-05-12T19:03:22.735257Z",
     "start_time": "2020-05-12T19:03:22.506515Z"
    }
   },
   "outputs": [
    {
     "data": {
      "text/plain": [
       "[<matplotlib.lines.Line2D at 0x7fba0553c748>]"
      ]
     },
     "execution_count": 13,
     "metadata": {},
     "output_type": "execute_result"
    },
    {
     "data": {
      "image/png": "[encoded data removed]",
      "text/plain": [
       "<Figure size 432x288 with 1 Axes>"
      ]
     },
     "metadata": {},
     "output_type": "display_data"
    }
   ],
   "source": [
    "cb2 = CubicSpline(X, Y2)\n",
    "plt.plot([x for x in np.arange(0, 10, 0.01)], [cb2(x) for x in np.arange(0, 10, 0.01)])\n"
   ]
  },
  {
   "cell_type": "code",
   "execution_count": 14,
   "metadata": {
    "ExecuteTime": {
     "end_time": "2020-05-12T19:03:30.344524Z",
     "start_time": "2020-05-12T19:03:30.338945Z"
    }
   },
   "outputs": [
    {
     "data": {
      "text/plain": [
       "(array(724.09282667), array(-674.63322667), array(5572.1581575))"
      ]
     },
     "execution_count": 14,
     "metadata": {},
     "output_type": "execute_result"
    }
   ],
   "source": [
    "cb2(a), cb2(b), cb2(c)"
   ]
  },
  {
   "cell_type": "code",
   "execution_count": 19,
   "metadata": {
    "ExecuteTime": {
     "end_time": "2020-05-12T19:04:13.650556Z",
     "start_time": "2020-05-12T19:04:13.647376Z"
    }
   },
   "outputs": [],
   "source": [
    "def f(x):\n",
    "    return x/(5**x)"
   ]
  },
  {
   "cell_type": "code",
   "execution_count": 20,
   "metadata": {
    "ExecuteTime": {
     "end_time": "2020-05-12T19:04:14.131072Z",
     "start_time": "2020-05-12T19:04:14.127093Z"
    }
   },
   "outputs": [],
   "source": [
    "def dif1(x, h):\n",
    "    return (f(x+h)-f(x))/h\n",
    "\n",
    "def dif1_1(x, h):\n",
    "    return (f(x+h)-f(x-h))/2*h\n",
    "\n",
    "def dif2(x, h):\n",
    "    return (f(x-h) - 2*f(x)+f(x+h))/h**2"
   ]
  },
  {
   "cell_type": "code",
   "execution_count": 60,
   "metadata": {
    "ExecuteTime": {
     "end_time": "2020-05-12T19:56:49.448313Z",
     "start_time": "2020-05-12T19:56:49.444108Z"
    }
   },
   "outputs": [],
   "source": [
    "def pogr_for_dif(x, h):\n",
    "    d = []\n",
    "    for i in range(len(x)):\n",
    "        d.append((abs(df_sym2.subs(x_sym, x[i])*h/2+df_sym3.subs(x_sym, x[i])*(h**2)/6)).evalf())\n",
    "    return d"
   ]
  },
  {
   "cell_type": "code",
   "execution_count": 22,
   "metadata": {
    "ExecuteTime": {
     "end_time": "2020-05-12T19:04:17.482923Z",
     "start_time": "2020-05-12T19:04:16.002528Z"
    }
   },
   "outputs": [
    {
     "data": {
      "text/plain": [
       "<matplotlib.legend.Legend at 0x7fba055a6160>"
      ]
     },
     "execution_count": 22,
     "metadata": {},
     "output_type": "execute_result"
    },
    {
     "data": {
      "image/png": "[encoded data removed]",
      "text/plain": [
       "<Figure size 432x288 with 1 Axes>"
      ]
     },
     "metadata": {},
     "output_type": "display_data"
    }
   ],
   "source": [
    "plt.plot([x for x in np.arange(0, 10, 0.01)], [dif1(x, 0.5) for x in np.arange(0, 10, 0.01)], label = 'dif1')\n",
    "plt.plot([x for x in np.arange(0, 10, 0.01)], [dif1_1(x, 0.5) for x in np.arange(0, 10, 0.01)], label = 'dif1_1')\n",
    "plt.plot([x for x in np.arange(0, 10, 0.01)], [df_sym.subs(x_sym, x) for x in np.arange(0, 10, 0.01)], label = 'df_sym')\n",
    "plt.legend()"
   ]
  },
  {
   "cell_type": "code",
   "execution_count": 26,
   "metadata": {
    "ExecuteTime": {
     "end_time": "2020-05-12T19:07:16.371171Z",
     "start_time": "2020-05-12T19:07:14.560837Z"
    }
   },
   "outputs": [
    {
     "data": {
      "text/plain": [
       "<matplotlib.legend.Legend at 0x7fba05dc6b38>"
      ]
     },
     "execution_count": 26,
     "metadata": {},
     "output_type": "execute_result"
    },
    {
     "data": {
      "image/png": "[encoded data removed]",
      "text/plain": [
       "<Figure size 432x288 with 1 Axes>"
      ]
     },
     "metadata": {},
     "output_type": "display_data"
    }
   ],
   "source": [
    "plt.plot([x for x in np.arange(0, 10, 0.01)], [dif2(x, 0.5) for x in np.arange(0, 10, 0.01)], label = 'dif2')\n",
    "plt.plot([x for x in np.arange(0, 10, 0.01)], [df_sym2.subs(x_sym, x) for x in np.arange(0, 10, 0.01)], label = 'df2_sym')\n",
    "plt.legend()"
   ]
  },
  {
   "cell_type": "code",
   "execution_count": 33,
   "metadata": {
    "ExecuteTime": {
     "end_time": "2020-05-12T19:12:50.415852Z",
     "start_time": "2020-05-12T19:12:23.419470Z"
    }
   },
   "outputs": [
    {
     "name": "stdout",
     "output_type": "stream",
     "text": [
      "Max -  0.520405345457233 \n",
      "Min -  0.187673999479080 \n",
      "Avg -  0.478486774848750\n"
     ]
    },
    {
     "data": {
      "text/plain": [
       "[<matplotlib.lines.Line2D at 0x7fba09b00a90>]"
      ]
     },
     "execution_count": 33,
     "metadata": {},
     "output_type": "execute_result"
    },
    {
     "data": {
      "image/png": "[encoded data removed]",
      "text/plain": [
       "<Figure size 432x288 with 1 Axes>"
      ]
     },
     "metadata": {},
     "output_type": "display_data"
    }
   ],
   "source": [
    "pogr1 = pogr_for_dif([dif1_1(x, 0.5) for x in np.arange(0, 10, 0.01)], 0.5)\n",
    "print('Max - ', max(pogr1), '\\nMin - ', min(pogr1), '\\nAvg - ', sum(pogr1)/len(pogr1))\n",
    "plt.plot([x for x in np.arange(0, 10, 0.01)], pogr1)"
   ]
  },
  {
   "cell_type": "code",
   "execution_count": 34,
   "metadata": {
    "ExecuteTime": {
     "end_time": "2020-05-12T19:13:45.576261Z",
     "start_time": "2020-05-12T19:13:19.329930Z"
    }
   },
   "outputs": [
    {
     "name": "stdout",
     "output_type": "stream",
     "text": [
      "Max -  0.671768582887261 \n",
      "Min -  0.130973525804954 \n",
      "Avg -  0.504580279155423\n"
     ]
    },
    {
     "data": {
      "text/plain": [
       "[<matplotlib.lines.Line2D at 0x7fba0aa00c88>]"
      ]
     },
     "execution_count": 34,
     "metadata": {},
     "output_type": "execute_result"
    },
    {
     "data": {
      "image/png": "[encoded data removed]",
      "text/plain": [
       "<Figure size 432x288 with 1 Axes>"
      ]
     },
     "metadata": {},
     "output_type": "display_data"
    }
   ],
   "source": [
    "pogr2 = pogr_for_dif([dif1(x, 0.5) for x in np.arange(0, 10, 0.01)], 0.5)\n",
    "print('Max - ', max(pogr2), '\\nMin - ', min(pogr2), '\\nAvg - ', sum(pogr2)/len(pogr2))\n",
    "plt.plot([x for x in np.arange(0, 10, 0.01)], pogr2)"
   ]
  },
  {
   "cell_type": "code",
   "execution_count": 35,
   "metadata": {
    "ExecuteTime": {
     "end_time": "2020-05-12T19:13:47.212030Z",
     "start_time": "2020-05-12T19:13:45.697328Z"
    }
   },
   "outputs": [
    {
     "data": {
      "text/plain": [
       "<matplotlib.legend.Legend at 0x7fb9f33276a0>"
      ]
     },
     "execution_count": 35,
     "metadata": {},
     "output_type": "execute_result"
    },
    {
     "data": {
      "image/png": "[encoded data removed]",
      "text/plain": [
       "<Figure size 432x288 with 1 Axes>"
      ]
     },
     "metadata": {},
     "output_type": "display_data"
    }
   ],
   "source": [
    "plt.plot([x for x in np.arange(0, 10, 0.01)], [dif1(x, 0.01) for x in np.arange(0, 10, 0.01)], label = 'dif1')\n",
    "plt.plot([x for x in np.arange(0, 10, 0.01)], [dif1_1(x, 0.01) for x in np.arange(0, 10, 0.01)], label = 'dif1_1')\n",
    "plt.plot([x for x in np.arange(0, 10, 0.01)], [df_sym.subs(x_sym, x) for x in np.arange(0, 10, 0.01)], label = 'df_sym')\n",
    "plt.legend()"
   ]
  },
  {
   "cell_type": "code",
   "execution_count": 36,
   "metadata": {
    "ExecuteTime": {
     "end_time": "2020-05-12T19:14:13.453320Z",
     "start_time": "2020-05-12T19:13:47.333437Z"
    }
   },
   "outputs": [
    {
     "name": "stdout",
     "output_type": "stream",
     "text": [
      "Max -  0.0159653866598454 \n",
      "Min -  0.0159610068763382 \n",
      "Avg -  0.0159648626507712\n"
     ]
    },
    {
     "data": {
      "text/plain": [
       "[<matplotlib.lines.Line2D at 0x7fb9f31e9da0>]"
      ]
     },
     "execution_count": 36,
     "metadata": {},
     "output_type": "execute_result"
    },
    {
     "data": {
      "image/png": "[encoded data removed]",
      "text/plain": [
       "<Figure size 432x288 with 1 Axes>"
      ]
     },
     "metadata": {},
     "output_type": "display_data"
    }
   ],
   "source": [
    "pogr1 = pogr_for_dif([dif1_1(x, 0.01) for x in np.arange(0, 10, 0.01)], 0.01)\n",
    "print('Max - ', max(pogr1), '\\nMin - ', min(pogr1), '\\nAvg - ', sum(pogr1)/len(pogr1))\n",
    "plt.plot([x for x in np.arange(0, 10, 0.01)], pogr1)"
   ]
  },
  {
   "cell_type": "code",
   "execution_count": 37,
   "metadata": {
    "ExecuteTime": {
     "end_time": "2020-05-12T19:14:39.633796Z",
     "start_time": "2020-05-12T19:14:13.579314Z"
    }
   },
   "outputs": [
    {
     "name": "stdout",
     "output_type": "stream",
     "text": [
      "Max -  0.0220175253690291 \n",
      "Min -  0.000674831764757604 \n",
      "Avg -  0.0164266316950610\n"
     ]
    },
    {
     "data": {
      "text/plain": [
       "[<matplotlib.lines.Line2D at 0x7fb9f33485c0>]"
      ]
     },
     "execution_count": 37,
     "metadata": {},
     "output_type": "execute_result"
    },
    {
     "data": {
      "image/png": "[encoded data removed]",
      "text/plain": [
       "<Figure size 432x288 with 1 Axes>"
      ]
     },
     "metadata": {},
     "output_type": "display_data"
    }
   ],
   "source": [
    "pogr2 = pogr_for_dif([dif1(x, 0.01) for x in np.arange(0, 10, 0.01)], 0.01)\n",
    "print('Max - ', max(pogr2), '\\nMin - ', min(pogr2), '\\nAvg - ', sum(pogr2)/len(pogr2))\n",
    "plt.plot([x for x in np.arange(0, 10, 0.01)], pogr2)"
   ]
  },
  {
   "cell_type": "code",
   "execution_count": 61,
   "metadata": {
    "ExecuteTime": {
     "end_time": "2020-05-12T19:57:23.680271Z",
     "start_time": "2020-05-12T19:56:54.002205Z"
    }
   },
   "outputs": [
    {
     "name": "stdout",
     "output_type": "stream",
     "text": [
      "Max -  166.878837621030 \n",
      "Min -  0.000409684697655390 \n",
      "Avg -  44.8384081075749\n"
     ]
    },
    {
     "data": {
      "text/plain": [
       "[<matplotlib.lines.Line2D at 0x7fb9ec9606d8>]"
      ]
     },
     "execution_count": 61,
     "metadata": {},
     "output_type": "execute_result"
    },
    {
     "data": {
      "image/png": "[encoded data removed]",
      "text/plain": [
       "<Figure size 432x288 with 1 Axes>"
      ]
     },
     "metadata": {},
     "output_type": "display_data"
    }
   ],
   "source": [
    "pogr_2 = pogr_for_dif([dif2(x, 0.5) for x in np.arange(0, 10, 0.01)], 0.5)\n",
    "print('Max - ', max(pogr_2), '\\nMin - ', min(pogr_2), '\\nAvg - ', sum(pogr_2)/len(pogr_2))\n",
    "plt.plot([x for x in np.arange(0, 10, 0.01)], pogr_2)"
   ]
  },
  {
   "cell_type": "code",
   "execution_count": 39,
   "metadata": {
    "ExecuteTime": {
     "end_time": "2020-05-12T19:15:34.857417Z",
     "start_time": "2020-05-12T19:15:07.414557Z"
    }
   },
   "outputs": [
    {
     "name": "stdout",
     "output_type": "stream",
     "text": [
      "Max -  10.2129123914378 \n",
      "Min -  0.0131260013790133 \n",
      "Avg -  0.105047431273015\n"
     ]
    },
    {
     "data": {
      "text/plain": [
       "[<matplotlib.lines.Line2D at 0x7fba075bad30>]"
      ]
     },
     "execution_count": 39,
     "metadata": {},
     "output_type": "execute_result"
    },
    {
     "data": {
      "image/png": "[encoded data removed]",
      "text/plain": [
       "<Figure size 432x288 with 1 Axes>"
      ]
     },
     "metadata": {},
     "output_type": "display_data"
    }
   ],
   "source": [
    "pogr_2 = pogr_for_dif([dif2(x, 0.01) for x in np.arange(0, 10, 0.01)], 0.01)\n",
    "print('Max - ', max(pogr_2), '\\nMin - ', min(pogr_2), '\\nAvg - ', sum(pogr_2)/len(pogr_2))\n",
    "plt.plot([x for x in np.arange(0, 10, 0.01)], pogr_2)"
   ]
  },
  {
   "cell_type": "code",
   "execution_count": 64,
   "metadata": {
    "ExecuteTime": {
     "end_time": "2020-05-12T19:58:51.594801Z",
     "start_time": "2020-05-12T19:58:22.287093Z"
    }
   },
   "outputs": [
    {
     "name": "stdout",
     "output_type": "stream",
     "text": [
      "Max -  141.974497679849 \n",
      "Min -  0.000123169146449284 \n",
      "Avg -  26.2931336390690\n"
     ]
    }
   ],
   "source": [
    "pogr_2 = pogr_for_dif([dif2(x, 0.1) for x in np.arange(0, 10, 0.01)], 0.1)\n",
    "print('Max - ', max(pogr_2), '\\nMin - ', min(pogr_2), '\\nAvg - ', sum(pogr_2)/len(pogr_2))"
   ]
  },
  {
   "cell_type": "code",
   "execution_count": 53,
   "metadata": {
    "ExecuteTime": {
     "end_time": "2020-05-12T19:52:30.647539Z",
     "start_time": "2020-05-12T19:52:30.570355Z"
    }
   },
   "outputs": [
    {
     "data": {
      "text/plain": [
       "[104.301581686014,\n",
       " 95.8770450656163,\n",
       " 87.1883391049735,\n",
       " 78.4284249340224,\n",
       " 69.7788167843016,\n",
       " 61.4023282914780,\n",
       " 53.4374427977053,\n",
       " 45.9945859941441,\n",
       " 39.1543918113641,\n",
       " 32.9678721132650,\n",
       " 27.4582479501991,\n",
       " 22.6240896577149,\n",
       " 18.4433524302034,\n",
       " 14.8778831259998,\n",
       " 11.8780064845590,\n",
       " 9.38686365714121,\n",
       " 7.34425981342326,\n",
       " 5.68986755131636,\n",
       " 4.36571780369622,\n",
       " 3.31798186548077,\n",
       " 2.49810248698603,\n",
       " 1.86336737045411,\n",
       " 1.37703613439744,\n",
       " 1.00813487080640,\n",
       " 0.731024659861750,\n",
       " 0.524835777800345,\n",
       " 0.372841359349152,\n",
       " 0.261825744433048,\n",
       " 0.181485596368648,\n",
       " 0.123887275449563,\n",
       " 0.0829923768029291,\n",
       " 0.0542547978678725,\n",
       " 0.0342868807605341,\n",
       " 0.0205886084222188,\n",
       " 0.0113320026489883,\n",
       " 0.00519228579663795,\n",
       " 0.00121760469278761,\n",
       " 0.00127015950216190,\n",
       " 0.00275000565148957,\n",
       " 0.00355732495093871,\n",
       " 0.00392478613080188,\n",
       " 0.00401216805083495,\n",
       " 0.00392793947088077,\n",
       " 0.00374474230577261,\n",
       " 0.00351041489436084,\n",
       " 0.00325578140676647,\n",
       " 0.00300011558557395,\n",
       " 0.00275494469302070,\n",
       " 0.00252667740652095,\n",
       " 0.00231840417744371,\n",
       " 0.00213111923642558,\n",
       " 0.00196454115487588,\n",
       " 0.00181765673091611,\n",
       " 0.00168907563755485,\n",
       " 0.00157725672968144,\n",
       " 0.00148064815664508,\n",
       " 0.00139777026056187,\n",
       " 0.00132726104695692,\n",
       " 0.00126789763037469,\n",
       " 0.00121860264883708,\n",
       " 0.00117844161340382,\n",
       " 0.00114661509214584,\n",
       " 0.00112244822572162,\n",
       " 0.00110537912739896,\n",
       " 0.00109494708956923,\n",
       " 0.00109078110173492,\n",
       " 0.00109258891283070,\n",
       " 0.00110014669661077,\n",
       " 0.00111328927085775,\n",
       " 0.00113190075812742,\n",
       " 0.00115590554369207,\n",
       " 0.00118525937646241,\n",
       " 0.00121994046553804,\n",
       " 0.00125994044561169,\n",
       " 0.00130525511708073,\n",
       " 0.00135587491058048,\n",
       " 0.00141177508012462,\n",
       " 0.00147290569326191,\n",
       " 0.00153918155911705,\n",
       " 0.00161047231330897,\n",
       " 0.00168659295867919,\n",
       " 0.00176729523715421,\n",
       " 0.00185226027410539,\n",
       " 0.00194109298416056,\n",
       " 0.00203331874772101,\n",
       " 0.00212838285155294,\n",
       " 0.00222565312691470,\n",
       " 0.00232442610916574,\n",
       " 0.00242393688177365,\n",
       " 0.00252337255811112,\n",
       " 0.00262188910545981,\n",
       " 0.00271863094271121,\n",
       " 0.00281275246816510,\n",
       " 0.00290344042339066,\n",
       " 0.00298993580306933,\n",
       " 0.00307155390852828,\n",
       " 0.00314770113975476,\n",
       " 0.00321788724435941,\n",
       " 0.00328173199778408,\n",
       " 0.00333896566798567,\n",
       " 0.00338942309515465,\n",
       " 0.00343303175323617,\n",
       " 0.00346979470393129,\n",
       " 0.00349976984791778,\n",
       " 0.00352304726505223,\n",
       " 0.00353972666601433,\n",
       " 0.00354989701788231,\n",
       " 0.00355362024167327,\n",
       " 0.00355092052064481,\n",
       " 0.00354178023727955,\n",
       " 0.00352614292748096,\n",
       " 0.00350392296939167,\n",
       " 0.00347502108349483,\n",
       " 0.00343934417849849,\n",
       " 0.00339682768973207,\n",
       " 0.00334745836003008,\n",
       " 0.00329129542087878,\n",
       " 0.00322848833375411,\n",
       " 0.00315928961670083,\n",
       " 0.00308406176192505,\n",
       " 0.00300327779008150,\n",
       " 0.00291751552802955,\n",
       " 0.00282744618653437,\n",
       " 0.00273381821105978,\n",
       " 0.00263743765523356,\n",
       " 0.00253914647127813,\n",
       " 0.00243980012804129,\n",
       " 0.00234024587092143,\n",
       " 0.00224130275336785,\n",
       " 0.00214374432584384,\n",
       " 0.00204828459506886,\n",
       " 0.00195556759148206,\n",
       " 0.00186616062886908,\n",
       " 0.00178055112351842,\n",
       " 0.00169914667117092,\n",
       " 0.00162227796232268,\n",
       " 0.00155020404892676,\n",
       " 0.00148311945312757,\n",
       " 0.00142116262377812,\n",
       " 0.00136442529033942,\n",
       " 0.00131296232743064,\n",
       " 0.00126680181853548,\n",
       " 0.00122595508713946,\n",
       " 0.00119042654228459,\n",
       " 0.00116022325909101,\n",
       " 0.00113536428045467,\n",
       " 0.00111588968222631,\n",
       " 0.00110186948976585,\n",
       " 0.00109341256823274,\n",
       " 0.00109067563154342,\n",
       " 0.00109387252414617,\n",
       " 0.00110328392282996,\n",
       " 0.00111926757775738,\n",
       " 0.00114226915457605,\n",
       " 0.00117283363985225,\n",
       " 0.00121161711027804,\n",
       " 0.00125939841228303,\n",
       " 0.00131708990864033,\n",
       " 0.00138574585765422,\n",
       " 0.00146656610441660,\n",
       " 0.00156089144638022,\n",
       " 0.00167018509158251,\n",
       " 0.00179599177764498,\n",
       " 0.00193986196548308,\n",
       " 0.00210322250097331,\n",
       " 0.00228716645991253,\n",
       " 0.00249212245237895,\n",
       " 0.00271734593230193,\n",
       " 0.00296014993542890,\n",
       " 0.00321475729649255,\n",
       " 0.00347060693292391,\n",
       " 0.00370987813365321,\n",
       " 0.00390390230802214,\n",
       " 0.00400800281776173,\n",
       " 0.00395412968604367,\n",
       " 0.00364042422237922,\n",
       " 0.00291654381904604,\n",
       " 0.00156318265193066,\n",
       " 0.000736277274645361,\n",
       " 0.00443467332991322,\n",
       " 0.0101739700510020,\n",
       " 0.0188564914372547,\n",
       " 0.0317397878294551,\n",
       " 0.0505614837234388,\n",
       " 0.0777014397774687,\n",
       " 0.116389340276497,\n",
       " 0.170966151934080,\n",
       " 0.247207470757494,\n",
       " 0.352715172540346,\n",
       " 0.497380527297002,\n",
       " 0.693916510656151,\n",
       " 0.958448961869356,\n",
       " 1.31114515570845,\n",
       " 1.77684421649786,\n",
       " 2.38563700649740,\n",
       " 3.17332470179446,\n",
       " 4.18166704063508,\n",
       " 5.45831584798202,\n",
       " 7.05632032703582,\n",
       " 9.03309167736186,\n",
       " 11.4487297583579,\n",
       " 14.3636469542685,\n",
       " 17.8354757163777,\n",
       " 21.9153156003188,\n",
       " 26.6434589560617,\n",
       " 32.0448242707019,\n",
       " 38.1244118384120,\n",
       " 44.8631651043049,\n",
       " 52.2146594178397,\n",
       " 60.1030365318904,\n",
       " 68.4225506426614,\n",
       " 77.0389889276318,\n",
       " 85.7930826678910,\n",
       " 94.5058478258676,\n",
       " 102.985606115832,\n",
       " 111.036262262456,\n",
       " 118.466273276469,\n",
       " 125.097660328880,\n",
       " 130.774395272847,\n",
       " 135.369545056073,\n",
       " 138.790671629462,\n",
       " 140.983147539262,\n",
       " 141.931237386097,\n",
       " 141.656989486736,\n",
       " 140.217158230871,\n",
       " 137.698517829580,\n",
       " 134.212020753882,\n",
       " 129.886294699837,\n",
       " 124.860962783933,\n",
       " 119.280220799496,\n",
       " 113.287024295257,\n",
       " 107.018140011856,\n",
       " 100.600213439606,\n",
       " 94.1469076264439,\n",
       " 87.7570857280576,\n",
       " 81.5139458542718,\n",
       " 75.4849732460124,\n",
       " 69.7225509586293,\n",
       " 64.2650635025525,\n",
       " 59.1383347317283,\n",
       " 54.3572577310787,\n",
       " 49.9274967367875,\n",
       " 45.8471659303282,\n",
       " 42.1084146731178,\n",
       " 38.6988715372990,\n",
       " 35.6029191893316,\n",
       " 32.8027882454389,\n",
       " 30.2794705556400,\n",
       " 28.0134612250644,\n",
       " 25.9853444862981,\n",
       " 24.1762418294467,\n",
       " 22.5681421312670,\n",
       " 21.1441334206439,\n",
       " 19.8885548295107,\n",
       " 18.7870855812704,\n",
       " 17.8267858560954,\n",
       " 16.9961022615976,\n",
       " 16.2848485793264,\n",
       " 15.6841705491055,\n",
       " 15.1865017488000,\n",
       " 14.7855161491994,\n",
       " 14.4760816725006,\n",
       " 14.2542180432832,\n",
       " 14.1170613684513,\n",
       " 14.0628371872295,\n",
       " 14.0908431613188,\n",
       " 14.2014420947320,\n",
       " 14.3960655486150,\n",
       " 14.6772279145727,\n",
       " 15.0485503965490,\n",
       " 15.5147938924714,\n",
       " 16.0818992283042,\n",
       " 16.7570325450868,\n",
       " 17.5486328405215,\n",
       " 18.4664576897346,\n",
       " 19.5216219881879,\n",
       " 20.7266231548844,\n",
       " 22.0953446005268,\n",
       " 23.6430274176270,\n",
       " 25.3861982309954,\n",
       " 27.3425390393294,\n",
       " 29.5306828145400,\n",
       " 31.9699167997789,\n",
       " 34.6797741282603,\n",
       " 37.6794939217073,\n",
       " 40.9873308498932,\n",
       " 44.6196977426302,\n",
       " 48.5901297900970,\n",
       " 52.9080666948877,\n",
       " 57.5774603285978,\n",
       " 62.5952303129375,\n",
       " 67.9496085222047,\n",
       " 73.6184354028140,\n",
       " 79.5674952808022,\n",
       " 85.7490028563072,\n",
       " 92.1003764983970,\n",
       " 98.5434526623941,\n",
       " 104.984306086496,\n",
       " 111.313838437279,\n",
       " 117.409280011549,\n",
       " 123.136712026353,\n",
       " 128.354659538992,\n",
       " 132.918727997511,\n",
       " 136.687163542515,\n",
       " 139.527115326440,\n",
       " 141.321277141067,\n",
       " 141.974497679849,\n",
       " 141.419886903418,\n",
       " 139.623922473426,\n",
       " 136.590084378578,\n",
       " 132.360622034342,\n",
       " 127.016184107070,\n",
       " 120.673207697114,\n",
       " 113.479154194269,\n",
       " 105.605872980259,\n",
       " 97.2415479141814,\n",
       " 88.5818132225092,\n",
       " 79.8206978801393,\n",
       " 71.1420613823757,\n",
       " 62.7121189039016,\n",
       " 54.6735295751555,\n",
       " 47.1413551802389,\n",
       " 40.2010101484827,\n",
       " 33.9081407482926,\n",
       " 28.2902130410164,\n",
       " 23.3494712421116,\n",
       " 19.0668593607410,\n",
       " 15.4064804741235,\n",
       " 12.3201941682886,\n",
       " 9.75201310760060,\n",
       " 7.64204140860288,\n",
       " 5.92978729708817,\n",
       " 4.55676891563855,\n",
       " 3.46840655080067,\n",
       " 2.61525184231467,\n",
       " 1.95364291534851,\n",
       " 1.44589475088112,\n",
       " 1.06013926046126,\n",
       " 0.769923225125520,\n",
       " 0.553658471413572,\n",
       " 0.394001008114819,\n",
       " 0.277217252265525,\n",
       " 0.192578012853910,\n",
       " 0.131805845129678,\n",
       " 0.0885893204620252,\n",
       " 0.0581687448689739,\n",
       " 0.0369916343175345,\n",
       " 0.0224323641114464,\n",
       " 0.0125683367044979,\n",
       " 0.00600425810158092,\n",
       " 0.00173624338281115,\n",
       " 0.000951861956452199,\n",
       " 0.00256661717762380,\n",
       " 0.00346321641941473,\n",
       " 0.00388844230397284,\n",
       " 0.00401205291545832,\n",
       " 0.00394951648128815,\n",
       " 0.00377834396373839,\n",
       " 0.00354973113362409,\n",
       " 0.00329679497533058,\n",
       " 0.00304035776791572,\n",
       " 0.00279297890275128,\n",
       " 0.00256174373025745,\n",
       " 0.00235017682660248,\n",
       " 0.00215954266784460,\n",
       " 0.00198972062556006,\n",
       " 0.00183978624423621,\n",
       " 0.00170839137081409,\n",
       " 0.00159400767136782,\n",
       " 0.00149507824496018,\n",
       " 0.00141010811016107,\n",
       " 0.00133771460129235,\n",
       " 0.00127665194320500,\n",
       " 0.00122581959516205,\n",
       " 0.00118426073877769,\n",
       " 0.00115115508756446,\n",
       " 0.00112580870345067,\n",
       " 0.00110764249938889,\n",
       " 0.00109618043411009,\n",
       " 0.00109103795923871,\n",
       " 0.00109191098740463,\n",
       " 0.00109856546270957,\n",
       " 0.00111082749804468,\n",
       " 0.00112857397464647,\n",
       " 0.00115172346299808,\n",
       " 0.00118022731119568,\n",
       " 0.00121406075136503,\n",
       " 0.00125321389323677,\n",
       " 0.00129768250477054,\n",
       " 0.00134745852182816,\n",
       " 0.00140252028172794,\n",
       " 0.00146282253825655,\n",
       " 0.00152828638700645,\n",
       " 0.00159878930735414,\n",
       " 0.00167415560735585,\n",
       " 0.00175414763522390,\n",
       " 0.00183845818923909,\n",
       " 0.00192670460906763,\n",
       " 0.00201842505670399,\n",
       " 0.00211307748570239,\n",
       " 0.00221004174491024,\n",
       " 0.00230862516154886,\n",
       " 0.00240807179559033,\n",
       " 0.00250757535514899,\n",
       " 0.00260629551903530,\n",
       " 0.00270337714221125,\n",
       " 0.00279797154344903,\n",
       " 0.00288925881818731,\n",
       " 0.00297646991284945,\n",
       " 0.00305890706946935,\n",
       " 0.00313596122772844,\n",
       " 0.00320712507430932,\n",
       " 0.00327200066445482,\n",
       " 0.00333030090119900,\n",
       " 0.00338184462168442,\n",
       " 0.00342654556998445,\n",
       " 0.00346439608229904,\n",
       " 0.00349544681631715,\n",
       " 0.00351978426420508,\n",
       " 0.00353750804703414,\n",
       " 0.00354871006036915,\n",
       " 0.00355345740882025,\n",
       " 0.00355178073751322,\n",
       " 0.00354366907019631,\n",
       " 0.00352907164738420,\n",
       " 0.00350790658866969,\n",
       " 0.00348007555296992,\n",
       " 0.00344548300846159,\n",
       " 0.00340405830858992,\n",
       " 0.00335577854183055,\n",
       " 0.00330069009818879,\n",
       " 0.00323892706822390,\n",
       " 0.00317072493238556,\n",
       " 0.00309642846439466,\n",
       " 0.00301649330681041,\n",
       " 0.00293148122156841,\n",
       " 0.00284204951928347,\n",
       " 0.00274893558482017,\n",
       " 0.00265293771339325,\n",
       " 0.00255489363728659,\n",
       " 0.00245565815929672,\n",
       " 0.00235608122915877,\n",
       " 0.00225698762677943,\n",
       " 0.00215915917971227,\n",
       " 0.00206332017196713,\n",
       " 0.00197012632499439,\n",
       " 0.00188015747308400,\n",
       " 0.00179391383204423,\n",
       " 0.00171181558294810,\n",
       " 0.00163420536681097,\n",
       " 0.00156135321080792,\n",
       " 0.00149346337750617,\n",
       " 0.00143068263829626,\n",
       " 0.00137310951208637,\n",
       " 0.00132080407141143,\n",
       " 0.00127379799201071,\n",
       " 0.00123210460138889,\n",
       " 0.00119572876106740,\n",
       " 0.00116467649183085,\n",
       " 0.00113896431832931,\n",
       " 0.00111862836709198,\n",
       " 0.00110373329931525,\n",
       " 0.00109438119606763,\n",
       " 0.00109072053809281,\n",
       " 0.00109295543387876,\n",
       " 0.00110135524556817,\n",
       " 0.00111626473806409,\n",
       " 0.00113811482474455,\n",
       " 0.00116743389143903,\n",
       " 0.00120485953013259,\n",
       " 0.00125115027722355,\n",
       " 0.00130719658652602,\n",
       " 0.00137402971362838,\n",
       " 0.00145282635696060,\n",
       " 0.00154490566365464,\n",
       " 0.00165171338036623,\n",
       " 0.00177478524644942,\n",
       " 0.00191567781310041,\n",
       " 0.00207584919482016,\n",
       " 0.00225646406946001,\n",
       " 0.00245808549279059,\n",
       " 0.00268019932982800,\n",
       " 0.00292049332913408,\n",
       " 0.00317377935506004,\n",
       " 0.00343040037886476,\n",
       " 0.00367389863758959,\n",
       " 0.00387763151882968,\n",
       " 0.00399989902305502,\n",
       " 0.00397698079881181,\n",
       " 0.00371325917519021,\n",
       " 0.00306731255170139,\n",
       " 0.00183248442905636,\n",
       " 0.000290049831154099,\n",
       " 0.00372829925630093,\n",
       " 0.00908986999650487,\n",
       " 0.0172299501341432,\n",
       " 0.0293420143666547,\n",
       " 0.0470774299671064,\n",
       " 0.0727011491392280,\n",
       " 0.109291497757948,\n",
       " 0.160992494862992,\n",
       " 0.233326854884327,\n",
       " 0.333576440750315,\n",
       " 0.471233978618755,\n",
       " 0.658524797964683,\n",
       " 0.910989728561989,\n",
       " 1.24810969433713,\n",
       " 1.69393887910020,\n",
       " 2.27769691547369,\n",
       " 3.03425228783803,\n",
       " 4.00441072537921,\n",
       " 5.23490631535085,\n",
       " 6.77798270133864,\n",
       " 8.69045090925928,\n",
       " 11.0321230170126,\n",
       " 13.8635504101334,\n",
       " 17.2430436620833,\n",
       " 21.2230177309485,\n",
       " 25.8457876867682,\n",
       " 31.1390296310291,\n",
       " 37.1112086282872,\n",
       " 43.7473477523169,\n",
       " 51.0055564058928,\n",
       " 58.8147399563490,\n",
       " 67.0738682721339,\n",
       " 75.6530856978964,\n",
       " 84.3968044139913,\n",
       " 93.1287495534567,\n",
       " 101.658736808703,\n",
       " 109.790784341513,\n",
       " 117.332013870203,\n",
       " 124.101700837428,\n",
       " 129.939803953701,\n",
       " 134.714344697214,\n",
       " 138.327112461499,\n",
       " 140.717327222708,\n",
       " 141.863078765669,\n",
       " 141.780556550562,\n",
       " 140.521264666311,\n",
       " 138.167563207454,\n",
       " 134.826978080978,\n",
       " 130.625770085258,\n",
       " 125.702252472817,\n",
       " 120.200301279025,\n",
       " 114.263425579055,\n",
       " 108.029668467189,\n",
       " 101.627506724558,\n",
       " 95.1728189239662,\n",
       " 88.7669064571407,\n",
       " 82.4954848665075,\n",
       " 76.4285160860026,\n",
       " 70.6207253381110,\n",
       " 65.1126372009765,\n",
       " 59.9319703000774,\n",
       " 55.0952452705504,\n",
       " 50.6094822284139,\n",
       " 46.4738885876733,\n",
       " 42.6814629426493,\n",
       " 39.2204639263748,\n",
       " 36.0757131995899,\n",
       " 33.2297183829883,\n",
       " 30.6636146669342,\n",
       " 28.3579332145425,\n",
       " 26.2932107298873,\n",
       " 24.4504582188170,\n",
       " 22.8115085802781,\n",
       " 21.3592627587154,\n",
       " 20.0778532294789,\n",
       " 18.9527419672956,\n",
       " 17.9707680691436,\n",
       " 17.1201580958264,\n",
       " 16.3905101224230,\n",
       " 15.7727605508876,\n",
       " 15.2591409989543,\n",
       " 14.8431310650261,\n",
       " 14.5194114820960,\n",
       " 14.2838211019459,\n",
       " 14.1333202704837,\n",
       " 14.0659624369033,\n",
       " 14.0808752507454,\n",
       " 14.1782519082690,\n",
       " 14.3593530786466,\n",
       " 14.6265193373640,\n",
       " 14.9831936249084,\n",
       " 15.4339527994700,\n",
       " 15.9845468288152,\n",
       " 16.6419435347368,\n",
       " 17.4143760300628,\n",
       " 18.3113890415153,\n",
       " 19.3438791641837,\n",
       " 20.5241227248819,\n",
       " 21.8657833341763,\n",
       " 23.3838893913487,\n",
       " 25.0947698108198,\n",
       " 27.0159341376403,\n",
       " 29.1658811373164,\n",
       " 31.5638180656635,\n",
       " 34.2292714035364,\n",
       " 37.1815692150412,\n",
       " 40.4391758737081,\n",
       " 44.0188621904598,\n",
       " 47.9346985125546,\n",
       " 52.1968656961560,\n",
       " 56.8102894824636,\n",
       " 61.7731180778245,\n",
       " 67.0750807375202,\n",
       " 72.6957865702204,\n",
       " 78.6030467666169,\n",
       " 84.7513285030165,\n",
       " 91.0804726312250,\n",
       " 97.5148269576763,\n",
       " 103.962958844949,\n",
       " 110.318111107066,\n",
       " 116.459549894066,\n",
       " 122.254919356473,\n",
       " 127.563663650335,\n",
       " 132.241502746632,\n",
       " 136.145857774716,\n",
       " 139.142020615981,\n",
       " 141.109760582882,\n",
       " 141.949970110751,\n",
       " 141.590884507672,\n",
       " 139.993380471210,\n",
       " 137.154874207686,\n",
       " 133.111407829756,\n",
       " 127.937631186177,\n",
       " 121.744547144126,\n",
       " 114.675076467111,\n",
       " 106.897693327966,\n",
       " 98.5985610074276,\n",
       " 89.9727370275264,\n",
       " 81.2150997240587,\n",
       " 72.5116632656343,\n",
       " 64.0318937737926,\n",
       " 55.9225234098300,\n",
       " 48.3031981862728,\n",
       " 41.2641104324160,\n",
       " 34.8655818111625,\n",
       " 29.1393992878035,\n",
       " 24.0915813211906,\n",
       " 19.7061746792134,\n",
       " 15.9496559784385,\n",
       " 12.7755317047182,\n",
       " 10.1287862782176,\n",
       " 7.94990695311871,\n",
       " 6.17830368963744,\n",
       " 4.75502972781425,\n",
       " 3.62478533704439,\n",
       " 2.73724743481481,\n",
       " 2.04780915909576,\n",
       " 1.51783657190431,\n",
       " 1.11455701043919,\n",
       " 0.810688851773320,\n",
       " 0.583909604862120,\n",
       " 0.416241993494365,\n",
       " 0.293419088010037,\n",
       " 0.204271797903435,\n",
       " 0.140166544043961,\n",
       " 0.0945083697303989,\n",
       " 0.0623152625303524,\n",
       " 0.0398628171699312,\n",
       " 0.0243941412733815,\n",
       " 0.0138875778426523,\n",
       " 0.00687388526282865,\n",
       " 0.00229453077881088,\n",
       " 0.000606646105804657,\n",
       " 0.00236523257488914,\n",
       " 0.00335730763947983,\n",
       " 0.00384455799102385,\n",
       " 0.00400729301236394,\n",
       " 0.00396839118664229,\n",
       " 0.00381052520905219,\n",
       " 0.00358845525976586,\n",
       " 0.00333773642800486,\n",
       " 0.00308084076219316,\n",
       " 0.00283142977645352,\n",
       " 0.00259731349093912,\n",
       " 0.00238248321942384,\n",
       " 0.00218849561037971,\n",
       " 0.00201540539225610,\n",
       " 0.00186238636731706,\n",
       " 0.00172813864281890,\n",
       " 0.00161115047949660,\n",
       " 0.00150986217881432,\n",
       " 0.00142276468528337,\n",
       " 0.00134845526600461,\n",
       " 0.00128566545492141,\n",
       " 0.00123327148576573,\n",
       " 0.00119029402291397,\n",
       " 0.00115589166364239,\n",
       " 0.00112935109749973,\n",
       " 0.00111007573656555,\n",
       " 0.00109757391234031,\n",
       " 0.00109144725859256,\n",
       " 0.00109137958718325,\n",
       " 0.00109712636261468,\n",
       " 0.00110850475473593,\n",
       " 0.00112538417349128,\n",
       " 0.00114767714883810,\n",
       " 0.00117533040274140,\n",
       " 0.00120831596211052,\n",
       " 0.00124662217798289,\n",
       " 0.00129024454516671,\n",
       " 0.00133917625690422,\n",
       " 0.00139339848028065,\n",
       " 0.00145287039934744,\n",
       " 0.00151751914298565,\n",
       " 0.00158722979120743,\n",
       " 0.00166183573346496,\n",
       " 0.00174110973072837,\n",
       " 0.00182475610325414,\n",
       " 0.00191240452037247,\n",
       " 0.00200360589859271,\n",
       " 0.00209783091089385,\n",
       " 0.00219447156492136,\n",
       " 0.00229284621450911,\n",
       " 0.00239220822425430,\n",
       " 0.00249175831211926,\n",
       " 0.00259066035725364,\n",
       " 0.00268806019285222,\n",
       " 0.00278310662676055,\n",
       " 0.00287497367110730,\n",
       " 0.00296288274559031,\n",
       " 0.00304612347709636,\n",
       " 0.00312407167825372,\n",
       " 0.00319620316964235,\n",
       " 0.00326210232436205,\n",
       " 0.00332146455531570,\n",
       " 0.00337409241517600,\n",
       " 0.00341988550154120,\n",
       " 0.00345882490731117,\n",
       " 0.00349095347262544,\n",
       " 0.00351635352170199,\n",
       " 0.00353512405297493,\n",
       " 0.00354735945426322,\n",
       " 0.00355313171547352,\n",
       " 0.00355247781163462,\n",
       " 0.00354539345475328,\n",
       " 0.00353183381140568,\n",
       " 0.00351172111739970,\n",
       " 0.00348495846264473,\n",
       " 0.00345144843899775,\n",
       " 0.00341111490190710,\n",
       " 0.00336392583646246,\n",
       " 0.00330991526109919,\n",
       " 0.00324920224493180,\n",
       " 0.00318200543240756,\n",
       " 0.00310865191870812,\n",
       " 0.00302957984676335,\n",
       " 0.00294533464353110,\n",
       " 0.00285655932442191,\n",
       " 0.00276397972472125,\n",
       " 0.00266838583360135,\n",
       " 0.00257061059329224,\n",
       " 0.00247150758202067,\n",
       " 0.00237192893659724,\n",
       " 0.00227270471096661,\n",
       " 0.00217462463888222,\n",
       " 0.00207842300189983,\n",
       " 0.00198476702691038,\n",
       " 0.00189424897464951,\n",
       " 0.00180738185073124,\n",
       " 0.00172459848584311,\n",
       " 0.00164625359753015,\n",
       " 0.00157262836296253,\n",
       " 0.00150393699593875,\n",
       " 0.00144033482555426,\n",
       " 0.00138192740956990,\n",
       " 0.00132878027385170,\n",
       " 0.00128092894162051,\n",
       " 0.00123838899525095,\n",
       " 0.00120116599294200,\n",
       " 0.00116926513809602,\n",
       " 0.00114270066772516,\n",
       " 0.00112150498537381,\n",
       " 0.00110573761315611,\n",
       " 0.00109549407550599,\n",
       " 0.00109091485375410,\n",
       " 0.00109219456433032,\n",
       " 0.00109959151200205,\n",
       " 0.00111343774900982,\n",
       " 0.00113414972401974,\n",
       " 0.00116223952055804,\n",
       " 0.00119832654518425,\n",
       " 0.00124314930525297,\n",
       " 0.00129757657530635,\n",
       " 0.00136261673276627,\n",
       " 0.00143942326398409,\n",
       " 0.00152929327969460,\n",
       " 0.00163365416050071,\n",
       " 0.00175403092804766,\n",
       " 0.00189198325097911,\n",
       " 0.00204899564193447,\n",
       " 0.00222629667332805,\n",
       " 0.00242457194163415,\n",
       " 0.00264351966241393,\n",
       " 0.00288117528038779,\n",
       " 0.00313289973610880,\n",
       " 0.00338988154332905,\n",
       " 0.00363694093443738,\n",
       " 0.00384933890627696,\n",
       " 0.00398817715683625,\n",
       " 0.00399381670095620,\n",
       " 0.00377653119071307,\n",
       " 0.00320333119945452,\n",
       " 0.00207953165967819,\n",
       " 0.000123169146449284,\n",
       " 0.00307020719652404,\n",
       " 0.00807555901121835,\n",
       " 0.0157032264881886,\n",
       " 0.0270856276929038,\n",
       " 0.0437918052754762,\n",
       " 0.0679768531521729,\n",
       " 0.102574121895100,\n",
       " 0.151538607942961,\n",
       " 0.220149786092533,\n",
       " 0.315380966192770,\n",
       " 0.446339582171456,\n",
       " 0.624778142030135,\n",
       " 0.865668376634854,\n",
       " 1.18782102114746,\n",
       " 1.61452047962340,\n",
       " 2.17412759503061,\n",
       " 2.90058568748153,\n",
       " 3.83374648632969,\n",
       " 5.01941595547534,\n",
       " 6.50900849251412,\n",
       " 8.35869537106187,\n",
       " 10.6279435697916,\n",
       " 13.3773677976475,\n",
       " 16.6658637888676,\n",
       " 20.5470548179495,\n",
       " 25.0651629133396,\n",
       " 30.2505050398398,\n",
       " 36.1149028397156,\n",
       " 42.6473700717123,\n",
       " 49.8104913037710,\n",
       " 57.5379163689210,\n",
       " 65.7333586611547,\n",
       " 74.2713982179109,\n",
       " 83.0002565445761,\n",
       " 91.7465406910791,\n",
       " 100.321767227787,\n",
       " 108.530294870678,\n",
       " 116.178141006476,\n",
       " 123.082053020050,\n",
       " 129.078164757972,\n",
       " 134.029597709646,\n",
       " 137.832461991364,\n",
       " 140.419861482605,\n",
       " 141.763691207625,\n",
       " 141.874210409891,\n",
       " 140.797558857495,\n",
       " 138.611537168833,\n",
       " 135.420080543771,\n",
       " 131.346912455783,\n",
       " 126.528870918317,\n",
       " 121.109361238554,\n",
       " 115.232316334526,\n",
       " 109.036951507315,\n",
       " 102.653497960550,\n",
       " 96.1999997702026,\n",
       " 89.7801712508135,\n",
       " 83.4822414489000,\n",
       " 77.3786624475482,\n",
       " 71.5265282502405,\n",
       " 65.9685391810043,\n",
       " 60.7343496793022,\n",
       " 55.8421511919409,\n",
       " 51.3003626795729,\n",
       " 47.1093255763524,\n",
       " 43.2629250303216,\n",
       " 39.7500828144915,\n",
       " 36.5560880692125,\n",
       " 33.6637492864284,\n",
       " 31.0543644574152,\n",
       " 28.7085162275553,\n",
       " 26.6067056218741,\n",
       " 24.7298419378457,\n",
       " 23.0596083015172,\n",
       " 21.5787226843567,\n",
       " 20.2711133588477,\n",
       " 19.1220262321218,\n",
       " 18.1180795576777,\n",
       " 17.2472794263442,\n",
       " 16.4990073499137,\n",
       " 15.8639892870515,\n",
       " 15.3342536879826,\n",
       " 14.9030845834115,\n",
       " 14.5649744207854,\n",
       " 14.3155802463216,\n",
       " 14.1516859222321,\n",
       " 14.0711723266459,\n",
       " 14.0729968767623,\n",
       " 14.1571832100985,\n",
       " 14.3248214202110,\n",
       " 14.5780788380430,\n",
       " 14.9202209439383,\n",
       " 15.3556415547315,\n",
       " 15.8899009207982,\n",
       " 16.5297697557325,\n",
       " 17.2832764726358,\n",
       " 18.1597539838582,\n",
       " 19.1698813071455,\n",
       " 20.3257138886856,\n",
       " 21.6406949924500,\n",
       " 23.1296387226622,\n",
       " 24.8086732752684,\n",
       " 26.6951309232433,\n",
       " 28.8073691446435,\n",
       " 31.1645053752633,\n",
       " 33.7860463535078,\n",
       " 36.6913922464611,\n",
       " 39.8991961077042,\n",
       " 43.4265612001703,\n",
       " 47.2880628575964,\n",
       " 51.4945884102776,\n",
       " 56.0519987752411,\n",
       " 60.9596289869230,\n",
       " 66.2086623589120,\n",
       " 71.7804338813825,\n",
       " 77.6447421189652,\n",
       " 83.7582738829176,\n",
       " 90.0632701824982,\n",
       " 96.4865825431827,\n",
       " 102.939282204439,\n",
       " 109.316987075308,\n",
       " 115.501058755898,\n",
       " 121.360791154129,\n",
       " 126.756661267573,\n",
       " 131.544641629056,\n",
       " 135.581485486967,\n",
       " 138.730795859734,\n",
       " 140.869587119466,\n",
       " 141.894954243449,\n",
       " 141.730393288041,\n",
       " 140.331279725842,\n",
       " 137.689019518371,\n",
       " 133.833447294197,\n",
       " 128.833156778855,\n",
       " 122.793603585757,\n",
       " 115.853005518269,\n",
       " 108.176260870163,\n",
       " 99.9472878958626,\n",
       " 91.3603358678178,\n",
       " 82.6109109049398,\n",
       " 73.8869859077995,\n",
       " 65.3611203380038,\n",
       " 57.1840086815560,\n",
       " 49.4798212021745,\n",
       " 42.3435179700328,\n",
       " 35.8401306083773,\n",
       " 30.0058379894906,\n",
       " 24.8505300137757,\n",
       " 20.3614687018246,\n",
       " 16.5076216195411,\n",
       " 13.2442555412242,\n",
       " 10.5174291103115,\n",
       " 8.26809965633009,\n",
       " 6.43564791395334,\n",
       " 4.96071295347716,\n",
       " 3.78730857521821,\n",
       " 2.86425550884747,\n",
       " 2.14600817730461,\n",
       " 1.59298066328682,\n",
       " 1.17148613762736,\n",
       " 0.853400916894234,\n",
       " 0.615652494655562,\n",
       " 0.439614117392909,\n",
       " 0.310469915734659,\n",
       " 0.216596605399321,\n",
       " 0.148991857956194,\n",
       " 0.100766393567225,\n",
       " 0.0667068790836604,\n",
       " 0.0429096452948522,\n",
       " 0.0264806577970948,\n",
       " 0.0152945801742345,\n",
       " 0.00780464477543144,\n",
       " 0.00289493710789375,\n",
       " 0.000232772231833879,\n",
       " 0.00214463746253101,\n",
       " 0.00323875895703173,\n",
       " 0.00379255870640007,\n",
       " 0.00399750000290511,\n",
       " 0.00398430485298202,\n",
       " 0.00384111676298372,\n",
       " 0.00362647915107808,\n",
       " 0.00337853900159348,\n",
       " 0.00312152541576667,\n",
       " 0.00287027630073710,\n",
       " 0.00263337734526711,\n",
       " 0.00241532130675699,\n",
       " 0.00221798038251679,\n",
       " 0.00204160021099957,\n",
       " 0.00188546304329955,\n",
       " 0.00174832379286493,\n",
       " 0.00162869140603589,\n",
       " 0.00152500584254189,\n",
       " 0.00143574535447562,\n",
       " 0.00135948782988742]"
      ]
     },
     "execution_count": 53,
     "metadata": {},
     "output_type": "execute_result"
    }
   ],
   "source": [
    "pogr_2"
   ]
  },
  {
   "cell_type": "code",
   "execution_count": 63,
   "metadata": {
    "ExecuteTime": {
     "end_time": "2020-05-12T19:58:22.075796Z",
     "start_time": "2020-05-12T19:57:52.904109Z"
    }
   },
   "outputs": [
    {
     "name": "stdout",
     "output_type": "stream",
     "text": [
      "Max -  0.155265828948128 \n",
      "Min -  0.141021900204922 \n",
      "Avg -  0.148425993998413\n"
     ]
    }
   ],
   "source": [
    "pogr2 = pogr_for_dif([dif1_1(x, 0.1) for x in np.arange(0, 10, 0.01)], 0.1)\n",
    "print('Max - ', max(pogr2), '\\nMin - ', min(pogr2), '\\nAvg - ', sum(pogr2)/len(pogr2))"
   ]
  },
  {
   "cell_type": "code",
   "execution_count": 40,
   "metadata": {
    "ExecuteTime": {
     "end_time": "2020-05-12T19:15:35.012498Z",
     "start_time": "2020-05-12T19:15:35.008804Z"
    }
   },
   "outputs": [],
   "source": [
    "def O1(x, h):\n",
    "    p = pogr_for_dif([dif1(i, h) for i in x], h)\n",
    "    return sum(p)/len(p)\n",
    "\n",
    "def O2(x, h):\n",
    "    p = pogr_for_dif([dif2(i, h) for i in x], h)\n",
    "    return sum(p)/len(p)\n",
    "\n"
   ]
  },
  {
   "cell_type": "code",
   "execution_count": 41,
   "metadata": {
    "ExecuteTime": {
     "end_time": "2020-05-12T19:23:55.050428Z",
     "start_time": "2020-05-12T19:15:35.168497Z"
    }
   },
   "outputs": [
    {
     "name": "stderr",
     "output_type": "stream",
     "text": [
      "100%|██████████| 11/11 [08:19<00:00, 51.77s/it]\n"
     ]
    }
   ],
   "source": [
    "from tqdm import tqdm\n",
    "r = 10\n",
    "h_min = 10**(-r)\n",
    "hs = []\n",
    "O1s = []\n",
    "O2s = []\n",
    "xs = np.arange(0, 10, 0.01)\n",
    "for i in tqdm(range(r+1)):\n",
    "    h_arg = h_min*10**i\n",
    "    hs.append(h_arg)\n",
    "    O1s.append(O1(xs, h_arg))\n",
    "    O2s.append(O2(xs, h_arg))"
   ]
  },
  {
   "cell_type": "code",
   "execution_count": 42,
   "metadata": {
    "ExecuteTime": {
     "end_time": "2020-05-12T19:23:55.240893Z",
     "start_time": "2020-05-12T19:23:55.234722Z"
    }
   },
   "outputs": [
    {
     "data": {
      "text/plain": [
       "1e-10"
      ]
     },
     "execution_count": 42,
     "metadata": {},
     "output_type": "execute_result"
    }
   ],
   "source": [
    "hs[O1s.index(min(O1s))]"
   ]
  },
  {
   "cell_type": "code",
   "execution_count": 43,
   "metadata": {
    "ExecuteTime": {
     "end_time": "2020-05-12T19:23:55.420914Z",
     "start_time": "2020-05-12T19:23:55.414686Z"
    }
   },
   "outputs": [
    {
     "data": {
      "text/plain": [
       "1e-08"
      ]
     },
     "execution_count": 43,
     "metadata": {},
     "output_type": "execute_result"
    }
   ],
   "source": [
    "hs[O2s.index(min(O2s))]"
   ]
  },
  {
   "cell_type": "code",
   "execution_count": 90,
   "metadata": {
    "ExecuteTime": {
     "end_time": "2020-05-12T20:15:41.062009Z",
     "start_time": "2020-05-12T20:15:41.058705Z"
    }
   },
   "outputs": [],
   "source": [
    "x_sym = sp.Symbol('x')\n",
    "f_sym = sp.sqrt(1+x_sym)\n",
    "\n",
    "def f(x):\n",
    "    return math.sqrt(1+x)\n",
    "\n"
   ]
  },
  {
   "cell_type": "code",
   "execution_count": 91,
   "metadata": {
    "ExecuteTime": {
     "end_time": "2020-05-12T20:15:42.365326Z",
     "start_time": "2020-05-12T20:15:42.358301Z"
    }
   },
   "outputs": [],
   "source": [
    "df_sym_integral2 = sp.diff(f_sym, x_sym, 2)\n",
    "df_sym_integral3 = sp.diff(f_sym, x_sym, 3)\n",
    "df_sym_integral4 = sp.diff(f_sym, x_sym, 4)"
   ]
  },
  {
   "cell_type": "code",
   "execution_count": 92,
   "metadata": {
    "ExecuteTime": {
     "end_time": "2020-05-12T20:15:42.582160Z",
     "start_time": "2020-05-12T20:15:42.576174Z"
    }
   },
   "outputs": [],
   "source": [
    "def pogr_midpoint(a, b, h):\n",
    "    M2 = []\n",
    "    xstart=a\n",
    "    dx = 1.0 * (b - a) / h\n",
    "    for i in range(h):\n",
    "        M2.append(df_sym_integral2.subs(x_sym, (xstart + i * dx+xstart + (i+1) * dx)/2))\n",
    "    return ((1/h)**3)*sum(M2)/24\n",
    "    \n",
    "    \n",
    "def pogr_trapezoid(a, b, h):\n",
    "    M2 = []\n",
    "    xstart=a\n",
    "    dx = 1.0 * (b - a) / h\n",
    "    for i in range(h):\n",
    "        M2.append(df_sym_integral2.subs(x_sym, (xstart + i * dx+xstart + (i+1) * dx)/2))\n",
    "    return ((1/h)**3)*sum(M2)/12\n",
    "    \n",
    "    \n",
    "def pogr_simpson(a, b, h):\n",
    "    M4 = []\n",
    "    xstart=a\n",
    "    dx = 1.0 * (b - a) / h\n",
    "    for i in range(h):\n",
    "        M4.append(df_sym_integral4.subs(x_sym, (xstart + i * dx+xstart + (i+1) * dx)/2))\n",
    "    return ((1/h)**5)*sum(M4)/180"
   ]
  },
  {
   "cell_type": "code",
   "execution_count": 93,
   "metadata": {
    "ExecuteTime": {
     "end_time": "2020-05-12T20:15:43.022614Z",
     "start_time": "2020-05-12T20:15:43.010348Z"
    }
   },
   "outputs": [
    {
     "data": {
      "text/latex": [
       "$\\displaystyle 1.21895141649746$"
      ],
      "text/plain": [
       "1.21895141649746"
      ]
     },
     "execution_count": 93,
     "metadata": {},
     "output_type": "execute_result"
    }
   ],
   "source": [
    "sp.integrate(f_sym, (x_sym, 0, 1)).evalf()"
   ]
  },
  {
   "cell_type": "code",
   "execution_count": 94,
   "metadata": {
    "ExecuteTime": {
     "end_time": "2020-05-12T20:15:43.436063Z",
     "start_time": "2020-05-12T20:15:43.430607Z"
    }
   },
   "outputs": [],
   "source": [
    "def _rectangle_rule(func, a, b, nseg, frac):\n",
    "    \"\"\"Обобщённое правило прямоугольников.\"\"\"\n",
    "    dx = 1.0 * (b - a) / nseg\n",
    "    sum = 0.0\n",
    "    xstart = a + frac * dx # 0 <= frac <= 1 задаёт долю смещения точки, \n",
    "                           # в которой вычисляется функция,\n",
    "                           # от левого края отрезка dx\n",
    "    for i in range(nseg):\n",
    "        sum += func(xstart + i * dx)\n",
    "\n",
    "    return sum * dx\n",
    "\n",
    "def left_rectangle_rule(func, a, b, nseg):\n",
    "    \"\"\"Правило левых прямоугольников\"\"\"\n",
    "    return _rectangle_rule(func, a, b, nseg, 0.0)\n",
    "\n",
    "def right_rectangle_rule(func, a, b, nseg):\n",
    "    \"\"\"Правило правых прямоугольников\"\"\"\n",
    "    return _rectangle_rule(func, a, b, npoints, 1.0)\n",
    "\n",
    "def midpoint_rectangle_rule(func, a, b, nseg):\n",
    "    \"\"\"Правило прямоугольников со средней точкой\"\"\"\n",
    "    return _rectangle_rule(func, a, b, nseg, 0.5)"
   ]
  },
  {
   "cell_type": "code",
   "execution_count": 95,
   "metadata": {
    "ExecuteTime": {
     "end_time": "2020-05-12T20:15:44.367696Z",
     "start_time": "2020-05-12T20:15:44.363276Z"
    }
   },
   "outputs": [
    {
     "data": {
      "text/plain": [
       "1.219012398501179"
      ]
     },
     "execution_count": 95,
     "metadata": {},
     "output_type": "execute_result"
    }
   ],
   "source": [
    "midpoint_rectangle_rule(f, 0, 1, 10)"
   ]
  },
  {
   "cell_type": "code",
   "execution_count": 130,
   "metadata": {
    "ExecuteTime": {
     "end_time": "2020-05-12T20:24:15.207916Z",
     "start_time": "2020-05-12T20:24:14.749269Z"
    }
   },
   "outputs": [
    {
     "data": {
      "text/latex": [
       "$\\displaystyle -6.10194152266108 \\cdot 10^{-9}$"
      ],
      "text/plain": [
       "-6.10194152266108e-9"
      ]
     },
     "execution_count": 130,
     "metadata": {},
     "output_type": "execute_result"
    }
   ],
   "source": [
    "pogr_midpoint(0, 1, 1000)"
   ]
  },
  {
   "cell_type": "code",
   "execution_count": 131,
   "metadata": {
    "ExecuteTime": {
     "end_time": "2020-05-12T20:24:15.825553Z",
     "start_time": "2020-05-12T20:24:15.390603Z"
    }
   },
   "outputs": [
    {
     "data": {
      "text/latex": [
       "$\\displaystyle -1.22038830453222 \\cdot 10^{-8}$"
      ],
      "text/plain": [
       "-1.22038830453222e-8"
      ]
     },
     "execution_count": 131,
     "metadata": {},
     "output_type": "execute_result"
    }
   ],
   "source": [
    "pogr_trapezoid(0, 1, 1000)"
   ]
  },
  {
   "cell_type": "code",
   "execution_count": 132,
   "metadata": {
    "ExecuteTime": {
     "end_time": "2020-05-12T20:24:16.531262Z",
     "start_time": "2020-05-12T20:24:16.084017Z"
    }
   },
   "outputs": [
    {
     "data": {
      "text/latex": [
       "$\\displaystyle -1.71504782548489 \\cdot 10^{-15}$"
      ],
      "text/plain": [
       "-1.71504782548489e-15"
      ]
     },
     "execution_count": 132,
     "metadata": {},
     "output_type": "execute_result"
    }
   ],
   "source": [
    "pogr_simpson(0, 1, 1000)"
   ]
  },
  {
   "cell_type": "code",
   "execution_count": 102,
   "metadata": {
    "ExecuteTime": {
     "end_time": "2020-05-12T20:16:23.441175Z",
     "start_time": "2020-05-12T20:16:23.426914Z"
    }
   },
   "outputs": [
    {
     "data": {
      "text/latex": [
       "$\\displaystyle 6.09820037187156 \\cdot 10^{-5}$"
      ],
      "text/plain": [
       "6.09820037187156e-5"
      ]
     },
     "execution_count": 102,
     "metadata": {},
     "output_type": "execute_result"
    }
   ],
   "source": [
    "abs(sp.integrate(f_sym, (x_sym, 0, 1)) - midpoint_rectangle_rule(f, 0, 1, 10)).evalf()"
   ]
  },
  {
   "cell_type": "code",
   "execution_count": 103,
   "metadata": {
    "ExecuteTime": {
     "end_time": "2020-05-12T20:16:31.575153Z",
     "start_time": "2020-05-12T20:16:31.571150Z"
    }
   },
   "outputs": [],
   "source": [
    "def trapezoid_rule(func, a, b, nseg):\n",
    "    \"\"\"Правило трапеций\n",
    "       nseg - число отрезков, на которые разбивается [a;b]\"\"\"\n",
    "    dx = 1.0 * (b - a) / nseg\n",
    "    sum = 0.5 * (func(a) + func(b))\n",
    "    for i in range(1, nseg):\n",
    "        sum += func(a + i * dx)\n",
    "\n",
    "    return sum * dx"
   ]
  },
  {
   "cell_type": "code",
   "execution_count": 104,
   "metadata": {
    "ExecuteTime": {
     "end_time": "2020-05-12T20:16:48.305162Z",
     "start_time": "2020-05-12T20:16:48.300559Z"
    }
   },
   "outputs": [
    {
     "data": {
      "text/plain": [
       "1.2188294204294459"
      ]
     },
     "execution_count": 104,
     "metadata": {},
     "output_type": "execute_result"
    }
   ],
   "source": [
    "trapezoid_rule(f, 0, 1, 10)"
   ]
  },
  {
   "cell_type": "code",
   "execution_count": 105,
   "metadata": {
    "ExecuteTime": {
     "end_time": "2020-05-12T20:16:59.775510Z",
     "start_time": "2020-05-12T20:16:59.771019Z"
    }
   },
   "outputs": [],
   "source": [
    "def simpson_rule(func, a, b, nseg):\n",
    "    \"\"\"Правило Симпсона\n",
    "       nseg - число отрезков, на которые разбивается [a;b]\"\"\"\n",
    "    if nseg%2 == 1:\n",
    "        nseg += 1\n",
    "    dx = 1.0 * (b - a) / nseg\n",
    "    sum = (func(a) + 4 * func(a + dx) + func(b))\n",
    "    for i in range(1, int(nseg/2)):\n",
    "        sum += 2 * func(a + (2 * i) * dx) + 4 * func(a + (2 * i + 1) * dx)\n",
    "\n",
    "    return sum * dx / 3"
   ]
  },
  {
   "cell_type": "code",
   "execution_count": 106,
   "metadata": {
    "ExecuteTime": {
     "end_time": "2020-05-12T20:17:13.343771Z",
     "start_time": "2020-05-12T20:17:13.338550Z"
    }
   },
   "outputs": [
    {
     "data": {
      "text/plain": [
       "1.2189512470136592"
      ]
     },
     "execution_count": 106,
     "metadata": {},
     "output_type": "execute_result"
    }
   ],
   "source": [
    "simpson_rule(f, 0, 1, 10)"
   ]
  },
  {
   "cell_type": "code",
   "execution_count": 108,
   "metadata": {
    "ExecuteTime": {
     "end_time": "2020-05-12T20:18:11.610932Z",
     "start_time": "2020-05-12T20:18:08.202436Z"
    }
   },
   "outputs": [
    {
     "name": "stdout",
     "output_type": "stream",
     "text": [
      "10 - 6.09820037187156e-5\n",
      "100 - 6.10190454145306e-7\n",
      "1000 - 6.10194337587686e-9\n",
      "10000 - 6.10165060332766e-11\n",
      "100000 - 6.07494906582448e-13\n",
      "1000000 - 2.57380416788663e-14\n",
      "10000000 - 1.00383293918551e-13\n"
     ]
    }
   ],
   "source": [
    "for i in [10, 100, 1000, 10000, 100000, 1000000, 10000000]:\n",
    "    print(i, '-', abs(sp.integrate(f_sym, (x_sym, 0, 1)) - midpoint_rectangle_rule(f, 0,1, i)).evalf())"
   ]
  },
  {
   "cell_type": "code",
   "execution_count": 109,
   "metadata": {
    "ExecuteTime": {
     "end_time": "2020-05-12T20:18:28.300426Z",
     "start_time": "2020-05-12T20:18:24.380774Z"
    }
   },
   "outputs": [
    {
     "name": "stdout",
     "output_type": "stream",
     "text": [
      "10 - 0.000121996068014349\n",
      "100 - 1.22038412399798e-6\n",
      "1000 - 1.22038828123483e-8\n",
      "10000 - 1.22041063069808e-10\n",
      "100000 - 1.20927405091416e-12\n",
      "1000000 - 7.86229226358984e-14\n",
      "10000000 - 9.85686720942766e-14\n"
     ]
    }
   ],
   "source": [
    "for i in [10, 100, 1000, 10000, 100000, 1000000, 10000000]:\n",
    "    print(i, '-', abs(sp.integrate(f_sym, (x_sym, 0, 1)) - trapezoid_rule(f, 0,1, i)).evalf())"
   ]
  },
  {
   "cell_type": "code",
   "execution_count": 110,
   "metadata": {
    "ExecuteTime": {
     "end_time": "2020-05-12T20:18:41.537114Z",
     "start_time": "2020-05-12T20:18:36.867858Z"
    }
   },
   "outputs": [
    {
     "name": "stdout",
     "output_type": "stream",
     "text": [
      "10 - 1.69483800790663e-7\n",
      "100 - 1.71480798816428e-11\n",
      "1000 - 1.79548933183757e-15\n",
      "10000 - 8.69045927262810e-16\n",
      "100000 - 7.56864905988838e-15\n",
      "1000000 - 7.53038407501375e-15\n",
      "10000000 - 1.07044632066302e-13\n"
     ]
    }
   ],
   "source": [
    "for i in [10, 100, 1000, 10000, 100000, 1000000, 10000000]:\n",
    "    print(i, '-', abs(sp.integrate(f_sym, (x_sym, 0, 1)) - simpson_rule(f, 0,1, i)).evalf())"
   ]
  },
  {
   "cell_type": "code",
   "execution_count": 111,
   "metadata": {
    "ExecuteTime": {
     "end_time": "2020-05-12T20:18:48.164839Z",
     "start_time": "2020-05-12T20:18:48.160160Z"
    }
   },
   "outputs": [],
   "source": [
    "def midpoint_rectangle_rule_E(f, a, b, eps, midpoint_rectangle_rule):\n",
    "    m = 2\n",
    "    h = (b-a)/m\n",
    "    Int1 = midpoint_rectangle_rule(f, a, b, m)\n",
    "    m += 1\n",
    "    Int2 = midpoint_rectangle_rule(f, a, b, m)\n",
    "    while abs(Int2-Int1) > eps:\n",
    "        Int1 = Int2\n",
    "        m+=1\n",
    "        Int2 = midpoint_rectangle_rule(f, a, b, m)\n",
    "    return Int2, m"
   ]
  },
  {
   "cell_type": "code",
   "execution_count": 112,
   "metadata": {
    "ExecuteTime": {
     "end_time": "2020-05-12T20:18:59.297399Z",
     "start_time": "2020-05-12T20:18:59.292742Z"
    }
   },
   "outputs": [
    {
     "name": "stdout",
     "output_type": "stream",
     "text": [
      "0.1  -  (1.2196249072996306, 3)\n",
      "0.01  -  (1.2196249072996306, 3)\n",
      "0.001  -  (1.2196249072996306, 3)\n",
      "0.0001  -  (1.219120627522867, 6)\n",
      "1e-05  -  (1.2189937730360465, 12)\n",
      "1e-06  -  (1.2189620090166087, 24)\n"
     ]
    }
   ],
   "source": [
    "for i in [0.1, 0.01, 0.001, 0.0001, 0.00001, 0.000001]:\n",
    "    print(i, ' - ', midpoint_rectangle_rule_E(f, 0, 1, i, midpoint_rectangle_rule))"
   ]
  },
  {
   "cell_type": "code",
   "execution_count": 113,
   "metadata": {
    "ExecuteTime": {
     "end_time": "2020-05-12T20:19:12.581034Z",
     "start_time": "2020-05-12T20:19:12.576915Z"
    }
   },
   "outputs": [],
   "source": [
    "N = 1000\n",
    "a = 0\n",
    "b = 1\n",
    "h = (b-a)/N\n",
    "x1 = [a + i*h for i in range(0, N)]\n",
    "y1 = [f(x) for x in x1]"
   ]
  },
  {
   "cell_type": "code",
   "execution_count": 121,
   "metadata": {
    "ExecuteTime": {
     "end_time": "2020-05-12T20:20:47.004562Z",
     "start_time": "2020-05-12T20:20:47.000032Z"
    }
   },
   "outputs": [],
   "source": [
    "import random\n",
    "def uzl1(a, b, N):\n",
    "    h = (b-a)/N\n",
    "    d = []\n",
    "    d.append(a)\n",
    "    i = 0\n",
    "    while i<N:\n",
    "        i+=1\n",
    "        h1 = random.random()*1.98*h\n",
    "        d.append(d[i-1]+h1)\n",
    "    return d"
   ]
  },
  {
   "cell_type": "code",
   "execution_count": 122,
   "metadata": {
    "ExecuteTime": {
     "end_time": "2020-05-12T20:20:49.052921Z",
     "start_time": "2020-05-12T20:20:49.048864Z"
    }
   },
   "outputs": [],
   "source": [
    "x2 = uzl1(a, b, N)\n",
    "y2 = [f(x) for x in x2]"
   ]
  },
  {
   "cell_type": "code",
   "execution_count": 116,
   "metadata": {
    "ExecuteTime": {
     "end_time": "2020-05-12T20:19:30.160664Z",
     "start_time": "2020-05-12T20:19:30.156994Z"
    }
   },
   "outputs": [],
   "source": [
    "def In(x, y, n):\n",
    "    h = (x[-1] - x[0])/n\n",
    "    return h/2*(y[-1] + y[0] + 2*sum(y[i] for i in range(1, n)))"
   ]
  },
  {
   "cell_type": "code",
   "execution_count": 117,
   "metadata": {
    "ExecuteTime": {
     "end_time": "2020-05-12T20:19:34.237663Z",
     "start_time": "2020-05-12T20:19:34.233199Z"
    }
   },
   "outputs": [
    {
     "data": {
      "text/plain": [
       "1.2177322762672846"
      ]
     },
     "execution_count": 117,
     "metadata": {},
     "output_type": "execute_result"
    }
   ],
   "source": [
    "In(x1, y1, N)"
   ]
  },
  {
   "cell_type": "code",
   "execution_count": 124,
   "metadata": {
    "ExecuteTime": {
     "end_time": "2020-05-12T20:20:54.861539Z",
     "start_time": "2020-05-12T20:20:54.856698Z"
    }
   },
   "outputs": [
    {
     "data": {
      "text/plain": [
       "1.180747785694269"
      ]
     },
     "execution_count": 124,
     "metadata": {},
     "output_type": "execute_result"
    }
   ],
   "source": [
    "In(x2, y2, N)"
   ]
  },
  {
   "cell_type": "code",
   "execution_count": 127,
   "metadata": {
    "ExecuteTime": {
     "end_time": "2020-05-12T20:21:22.543060Z",
     "start_time": "2020-05-12T20:21:22.529966Z"
    }
   },
   "outputs": [
    {
     "data": {
      "text/latex": [
       "$\\displaystyle 0.00121914023017535$"
      ],
      "text/plain": [
       "0.00121914023017535"
      ]
     },
     "execution_count": 127,
     "metadata": {},
     "output_type": "execute_result"
    }
   ],
   "source": [
    "abs(sp.integrate(f_sym, (x_sym, a, b)) - In(x1, y1, N)).evalf()"
   ]
  },
  {
   "cell_type": "code",
   "execution_count": 128,
   "metadata": {
    "ExecuteTime": {
     "end_time": "2020-05-12T20:21:27.499845Z",
     "start_time": "2020-05-12T20:21:27.487047Z"
    }
   },
   "outputs": [
    {
     "data": {
      "text/latex": [
       "$\\displaystyle 0.0382036308031912$"
      ],
      "text/plain": [
       "0.0382036308031912"
      ]
     },
     "execution_count": 128,
     "metadata": {},
     "output_type": "execute_result"
    }
   ],
   "source": [
    "abs(sp.integrate(f_sym, (x_sym, a, b)) - In(x2, y2, N)).evalf()"
   ]
  },
  {
   "cell_type": "code",
   "execution_count": null,
   "metadata": {},
   "outputs": [],
   "source": []
  }
 ],
 "metadata": {
  "kernelspec": {
   "display_name": "Python 3",
   "language": "python",
   "name": "python3"
  },
  "language_info": {
   "codemirror_mode": {
    "name": "ipython",
    "version": 3
   },
   "file_extension": ".py",
   "mimetype": "text/x-python",
   "name": "python",
   "nbconvert_exporter": "python",
   "pygments_lexer": "ipython3",
   "version": "3.6.6"
  },
  "varInspector": {
   "cols": {
    "lenName": 16,
    "lenType": 16,
    "lenVar": 40
   },
   "kernels_config": {
    "python": {
     "delete_cmd_postfix": "",
     "delete_cmd_prefix": "del ",
     "library": "var_list.py",
     "varRefreshCmd": "print(var_dic_list())"
    },
    "r": {
     "delete_cmd_postfix": ") ",
     "delete_cmd_prefix": "rm(",
     "library": "var_list.r",
     "varRefreshCmd": "cat(var_dic_list()) "
    }
   },
   "types_to_exclude": [
    "module",
    "function",
    "builtin_function_or_method",
    "instance",
    "_Feature"
   ],
   "window_display": false
  }
 },
 "nbformat": 4,
 "nbformat_minor": 2
}
