{
 "cells": [
  {
   "cell_type": "code",
   "execution_count": 2,
   "metadata": {
    "ExecuteTime": {
     "end_time": "2020-05-26T08:37:13.076085Z",
     "start_time": "2020-05-26T08:37:13.066929Z"
    }
   },
   "outputs": [
    {
     "data": {
      "text/plain": [
       "(array([[  2.,  14., -15.,  23.],\n",
       "        [ 16.,   4., -22.,  29.],\n",
       "        [ 18.,  20.,  -1.,  32.],\n",
       "        [ 10.,  12., -16.,  10.]]), array([5., 8., 9., 4.]))"
      ]
     },
     "execution_count": 2,
     "metadata": {},
     "output_type": "execute_result"
    }
   ],
   "source": [
    "'''4 Метод обратной матрицы, Метод Гаусса с выбором главного элемента по столбцу,\n",
    "метод итерации'''\n",
    "'''a,b,c,d = 1,3,0,9'''\n",
    "\n",
    "'''\n",
    "(1+a)x1 + 14х2 - 15х3 + 23х4 = 5 \n",
    "16x1 + (1+b)х2 - 22х3 + 29х4 = 8 \n",
    "18x1 + 20х2 – (1+c)х3 + 32х4 = 9 \n",
    "10x1 + 12х2 - 16х3 + (1+d)х4 = 4.\n",
    "'''\n",
    "\n",
    "\n",
    "import numpy as np\n",
    "\n",
    "a,b,c,d = 1.,3.,0.,9.\n",
    "\n",
    "\n",
    "M1 = np.array([[1.+a, 14., -15., 23.], [16., 1.+b, -22., 29.], [18., 20., -(1.+c), 32.], [10., 12., -16., 1.+d]])\n",
    "v1 = np.array([5.,8.,9.,4.])\n",
    "M1, v1"
   ]
  },
  {
   "cell_type": "code",
   "execution_count": 3,
   "metadata": {
    "ExecuteTime": {
     "end_time": "2020-05-26T08:38:03.001793Z",
     "start_time": "2020-05-26T08:38:02.991162Z"
    }
   },
   "outputs": [],
   "source": [
    "def GEPPsolve(a, b):\n",
    "    n = len(a)\n",
    "\n",
    "    # Elimination\n",
    "    for k in range(n-1):\n",
    "        # Pivot\n",
    "        maxindex = abs(a[k:,k]).argmax() + k\n",
    "        if a[maxindex, k] == 0:\n",
    "            raise ValueError(\"Matrix is singular.\")\n",
    "        # Swap\n",
    "        if maxindex != k:\n",
    "            a[[k,maxindex]] = a[[maxindex, k]]\n",
    "            b[[k,maxindex]] = b[[maxindex, k]]\n",
    "        # Eliminate\n",
    "        for row in range(k+1, n):\n",
    "            multiplier = a[row,k]/a[k,k]\n",
    "            a[row, k:] = a[row, k:] - multiplier * a[k, k:]\n",
    "            b[row] = b[row] - multiplier * b[k]\n",
    "    # Back Substitution\n",
    "    x = np.zeros(n)\n",
    "    for k in range(n-1, -1, -1):\n",
    "        x[k] = (b[k] - a[k,k+1:].dot(x[k+1:])) / a[k, k]\n",
    "    return x\n",
    "\n",
    "\n",
    "def ITERsolve(a, b, iter_max):\n",
    "    x = np.zeros_like(b)\n",
    "    for it_count in range(iter_max):\n",
    "        x_new = np.zeros_like(x)\n",
    "\n",
    "        for i in range(a.shape[0]):\n",
    "            s1 = np.dot(a[i, :i], x[:i])\n",
    "            s2 = np.dot(a[i, i + 1:], x[i + 1:])\n",
    "            x_new[i] = (b[i] - s1 - s2) / a[i, i]\n",
    "\n",
    "        if np.allclose(x, x_new, atol=1e-10):\n",
    "            break\n",
    "        x = x_new\n",
    "    return x"
   ]
  },
  {
   "cell_type": "code",
   "execution_count": 19,
   "metadata": {
    "ExecuteTime": {
     "end_time": "2020-05-26T08:48:03.476605Z",
     "start_time": "2020-05-26T08:48:03.473669Z"
    }
   },
   "outputs": [],
   "source": [
    "def Obr(a, b):\n",
    "    if np.linalg.det(a):\n",
    "        aobr = np.linalg.inv(a)\n",
    "        return aobr.dot(b).T\n",
    "    return None"
   ]
  },
  {
   "cell_type": "code",
   "execution_count": 21,
   "metadata": {
    "ExecuteTime": {
     "end_time": "2020-05-26T08:48:13.106350Z",
     "start_time": "2020-05-26T08:48:13.099629Z"
    }
   },
   "outputs": [
    {
     "data": {
      "text/plain": [
       "array([ 0.15752769,  0.03555312, -0.01873376,  0.16983454])"
      ]
     },
     "execution_count": 21,
     "metadata": {},
     "output_type": "execute_result"
    }
   ],
   "source": [
    "Obr(M1, v1)"
   ]
  },
  {
   "cell_type": "code",
   "execution_count": 8,
   "metadata": {
    "ExecuteTime": {
     "end_time": "2020-05-26T08:42:22.314436Z",
     "start_time": "2020-05-26T08:42:22.306759Z"
    }
   },
   "outputs": [
    {
     "data": {
      "text/plain": [
       "array([ 0.15752769,  0.03555312, -0.01873376,  0.16983454])"
      ]
     },
     "execution_count": 8,
     "metadata": {},
     "output_type": "execute_result"
    }
   ],
   "source": [
    "GEPPsolve(M1, v1)"
   ]
  },
  {
   "cell_type": "code",
   "execution_count": 31,
   "metadata": {
    "ExecuteTime": {
     "end_time": "2020-05-26T09:30:56.614307Z",
     "start_time": "2020-05-26T09:30:56.607627Z"
    }
   },
   "outputs": [
    {
     "data": {
      "text/plain": [
       "array([ 0.15752769,  0.03555312, -0.01873376,  0.16983454])"
      ]
     },
     "execution_count": 31,
     "metadata": {},
     "output_type": "execute_result"
    }
   ],
   "source": [
    "ITERsolve(M1, v1, 10000000)"
   ]
  },
  {
   "cell_type": "code",
   "execution_count": 33,
   "metadata": {
    "ExecuteTime": {
     "end_time": "2020-05-26T09:31:33.902078Z",
     "start_time": "2020-05-26T09:31:33.896544Z"
    }
   },
   "outputs": [
    {
     "data": {
      "text/plain": [
       "(array([-32.93548387, -17.90646425, -13.77777778,  18.        ]),\n",
       " array([[0., 0., 0., 1.],\n",
       "        [0., 0., 1., 0.],\n",
       "        [1., 0., 0., 0.],\n",
       "        [0., 1., 0., 0.]]))"
      ]
     },
     "execution_count": 33,
     "metadata": {},
     "output_type": "execute_result"
    }
   ],
   "source": [
    "np.linalg.eigh(M1)"
   ]
  },
  {
   "cell_type": "code",
   "execution_count": 22,
   "metadata": {
    "ExecuteTime": {
     "end_time": "2020-05-26T08:59:45.427502Z",
     "start_time": "2020-05-26T08:59:45.416463Z"
    }
   },
   "outputs": [
    {
     "data": {
      "text/plain": [
       "-146260.00000000006"
      ]
     },
     "execution_count": 22,
     "metadata": {},
     "output_type": "execute_result"
    }
   ],
   "source": [
    "np.linalg.det(M1)"
   ]
  },
  {
   "cell_type": "code",
   "execution_count": 25,
   "metadata": {
    "ExecuteTime": {
     "end_time": "2020-05-26T09:01:03.499008Z",
     "start_time": "2020-05-26T09:01:03.494758Z"
    }
   },
   "outputs": [
    {
     "data": {
      "text/plain": [
       "64.70690126858845"
      ]
     },
     "execution_count": 25,
     "metadata": {},
     "output_type": "execute_result"
    }
   ],
   "source": [
    "np.linalg.norm(M1)"
   ]
  },
  {
   "cell_type": "code",
   "execution_count": 24,
   "metadata": {
    "ExecuteTime": {
     "end_time": "2020-05-26T09:00:49.572510Z",
     "start_time": "2020-05-26T09:00:49.568899Z"
    }
   },
   "outputs": [],
   "source": [
    "M1_int = np.array([[int(j) for j in i]for i in M1])\n",
    "v1_int = np.array([[int(i) for i in v1]])"
   ]
  },
  {
   "cell_type": "code",
   "execution_count": 26,
   "metadata": {
    "ExecuteTime": {
     "end_time": "2020-05-26T09:01:15.594519Z",
     "start_time": "2020-05-26T09:01:15.589128Z"
    }
   },
   "outputs": [
    {
     "data": {
      "text/plain": [
       "array([[ 18,  20,  -1,  32],\n",
       "       [  0, -13, -21,   0],\n",
       "       [  0,   0, -32,  19],\n",
       "       [  0,   0,   0, -17],\n",
       "       [  9,   0,   4,  -3]])"
      ]
     },
     "execution_count": 26,
     "metadata": {},
     "output_type": "execute_result"
    }
   ],
   "source": [
    "np.concatenate((M1_int, v1_int))"
   ]
  },
  {
   "cell_type": "code",
   "execution_count": 27,
   "metadata": {
    "ExecuteTime": {
     "end_time": "2020-05-26T09:01:22.895155Z",
     "start_time": "2020-05-26T09:01:22.889913Z"
    }
   },
   "outputs": [
    {
     "data": {
      "text/plain": [
       "(4, 4)"
      ]
     },
     "execution_count": 27,
     "metadata": {},
     "output_type": "execute_result"
    }
   ],
   "source": [
    "np.linalg.matrix_rank(M1), np.linalg.matrix_rank(np.concatenate((M1_int, v1_int)))"
   ]
  },
  {
   "cell_type": "code",
   "execution_count": 28,
   "metadata": {
    "ExecuteTime": {
     "end_time": "2020-05-26T09:01:29.686159Z",
     "start_time": "2020-05-26T09:01:29.673971Z"
    }
   },
   "outputs": [
    {
     "data": {
      "text/plain": [
       "array([ 0.15752769,  0.03555312, -0.01873376,  0.16983454])"
      ]
     },
     "execution_count": 28,
     "metadata": {},
     "output_type": "execute_result"
    }
   ],
   "source": [
    "np.linalg.solve(M1, v1)"
   ]
  },
  {
   "cell_type": "code",
   "execution_count": 29,
   "metadata": {
    "ExecuteTime": {
     "end_time": "2020-05-26T09:02:05.446210Z",
     "start_time": "2020-05-26T09:02:05.443084Z"
    }
   },
   "outputs": [],
   "source": [
    "def calc_err(sol, a, b):\n",
    "    return a.dot(sol) - b"
   ]
  },
  {
   "cell_type": "code",
   "execution_count": 30,
   "metadata": {
    "ExecuteTime": {
     "end_time": "2020-05-26T09:22:59.066677Z",
     "start_time": "2020-05-26T09:22:39.736013Z"
    }
   },
   "outputs": [
    {
     "name": "stdout",
     "output_type": "stream",
     "text": [
      "[-32.93548387 -17.90646425 -13.77777778  18.        ]\n",
      "ge-builtin       : [ 0.15752769  0.03555312 -0.01873376  0.16983454] error: [0. 0. 0. 0.] 10.951839999999988 mcs\n",
      "g-elimination    : [ 0.15752769  0.03555312 -0.01873376  0.16983454] error: [0. 0. 0. 0.] 45.17822000000001 mcs\n",
      "iter_sol         : [ 0.15752769  0.03555312 -0.01873376  0.16983454] error: [0. 0. 0. 0.] 278.60938 mcs\n",
      "obr_sol          : [ 0.15752769  0.03555312 -0.01873376  0.16983454] error: [0.00000000e+00 2.22044605e-16 0.00000000e+00 0.00000000e+00] 117.84942 mcs\n"
     ]
    }
   ],
   "source": [
    "import time\n",
    "from scipy import linalg\n",
    "from numpy import dot\n",
    "\n",
    "\n",
    "print (np.linalg.eigh(M1)[0])\n",
    "\n",
    "rep_times = 50000\n",
    "\n",
    "t1 = time.clock()\n",
    "for _ in range(rep_times):\n",
    "    ge_builtin_solution = np.linalg.solve(M1, v1)\n",
    "ge_builtin_time = (time.clock() - t1) * 1000.0**2 / rep_times\n",
    "\n",
    "t1 = time.clock()\n",
    "for _ in range(rep_times):\n",
    "    ge_solution = GEPPsolve(M1.copy(), v1.copy())\n",
    "ge_time = (time.clock() - t1) * 1000.0**2 / rep_times\n",
    "\n",
    "t1 = time.clock()\n",
    "for _ in range(rep_times):\n",
    "    iter_solution = ITERsolve(M1, v1, 10000)\n",
    "iter_time = (time.clock() - t1) * 1000.0**2 / rep_times\n",
    "\n",
    "t1 = time.clock()\n",
    "for _ in range(rep_times):\n",
    "    obr_sol = Obr(M1, v1)\n",
    "obr_time = (time.clock() - t1) * 1000.0**2 / rep_times\n",
    "\n",
    "print (\"ge-builtin       : %s error: %s %s mcs\" % (ge_builtin_solution, calc_err(ge_builtin_solution, M1, v1), ge_builtin_time))\n",
    "print (\"g-elimination    : %s error: %s %s mcs\" % (ge_solution, calc_err(ge_solution, M1, v1), ge_time))\n",
    "print (\"iter_sol         : %s error: %s %s mcs\" % (iter_solution, calc_err(iter_solution, M1, v1), iter_time))\n",
    "print (\"obr_sol          : %s error: %s %s mcs\" % (obr_sol, calc_err(obr_sol, M1, v1), obr_time))"
   ]
  },
  {
   "cell_type": "code",
   "execution_count": null,
   "metadata": {},
   "outputs": [],
   "source": []
  }
 ],
 "metadata": {
  "kernelspec": {
   "display_name": "Python 3",
   "language": "python",
   "name": "python3"
  },
  "language_info": {
   "codemirror_mode": {
    "name": "ipython",
    "version": 3
   },
   "file_extension": ".py",
   "mimetype": "text/x-python",
   "name": "python",
   "nbconvert_exporter": "python",
   "pygments_lexer": "ipython3",
   "version": "3.6.6"
  },
  "varInspector": {
   "cols": {
    "lenName": 16,
    "lenType": 16,
    "lenVar": 40
   },
   "kernels_config": {
    "python": {
     "delete_cmd_postfix": "",
     "delete_cmd_prefix": "del ",
     "library": "var_list.py",
     "varRefreshCmd": "print(var_dic_list())"
    },
    "r": {
     "delete_cmd_postfix": ") ",
     "delete_cmd_prefix": "rm(",
     "library": "var_list.r",
     "varRefreshCmd": "cat(var_dic_list()) "
    }
   },
   "types_to_exclude": [
    "module",
    "function",
    "builtin_function_or_method",
    "instance",
    "_Feature"
   ],
   "window_display": false
  }
 },
 "nbformat": 4,
 "nbformat_minor": 2
}
